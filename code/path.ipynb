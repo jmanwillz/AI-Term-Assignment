{
 "cells": [
  {
   "cell_type": "code",
   "execution_count": 22,
   "id": "a4693ce8-6d29-4e5d-b11d-609c8e2fc77a",
   "metadata": {},
   "outputs": [
    {
     "ename": "ImportError",
     "evalue": "attempted relative import with no known parent package",
     "output_type": "error",
     "traceback": [
      "\u001b[0;31m---------------------------------------------------------------------------\u001b[0m",
      "\u001b[0;31mImportError\u001b[0m                               Traceback (most recent call last)",
      "Cell \u001b[0;32mIn[22], line 1\u001b[0m\n\u001b[0;32m----> 1\u001b[0m \u001b[38;5;28;01mfrom\u001b[39;00m \u001b[38;5;21;01m.\u001b[39;00m\u001b[38;5;21;01m.\u001b[39;00m\u001b[38;5;21;01mscripts\u001b[39;00m\u001b[38;5;21;01m.\u001b[39;00m\u001b[38;5;21;01mwunn\u001b[39;00m \u001b[38;5;28;01mimport\u001b[39;00m BayesianNetwork\n",
      "\u001b[0;31mImportError\u001b[0m: attempted relative import with no known parent package"
     ]
    }
   ],
   "source": [
    "from ..scripts.wunn import BayesianNetwork"
   ]
  },
  {
   "cell_type": "code",
   "execution_count": 11,
   "id": "8733c886-5178-474e-bf19-daf553d289f9",
   "metadata": {},
   "outputs": [],
   "source": [
    "from fifteen_puzzle_solvers.puzzle import Puzzle\n",
    "from fifteen_puzzle_solvers.algorithms import AStar, BreadthFirst\n",
    "from fifteen_puzzle_solvers.solver import PuzzleSolver"
   ]
  },
  {
   "cell_type": "code",
   "execution_count": 12,
   "id": "ec491cc9-9b1e-4492-8871-23069d49a2e8",
   "metadata": {},
   "outputs": [],
   "source": [
    "class Globals:\n",
    "    goal_state = Puzzle([[1, 2, 3, 4], [5, 6, 7, 8], [9, 10, 11, 12], [13, 14, 15, 0]])\n",
    "    epsilon = 1\n",
    "    num_tasks_per_iter = 10\n",
    "    num_tasks_per_iter_threshold = 6\n",
    "    alpha_0 = 0.99\n",
    "    delta = 0.05\n",
    "    beta_0 = 0.05\n",
    "    k = 0.64\n",
    "    memory_buffer_max_records = 25000\n",
    "    mu_0 = 0\n",
    "    sigma_0_squared = 10\n",
    "    q = 0.95\n",
    "    K = 100"
   ]
  },
  {
   "cell_type": "code",
   "execution_count": 13,
   "id": "1814cd8e-f720-4d52-8155-d042161538d1",
   "metadata": {},
   "outputs": [],
   "source": [
    "def generate_task_prac(**kwargs):\n",
    "    s_prime = Globals.goal_state\n",
    "    num_steps = 0\n",
    "    s_double_prime = None\n",
    "\n",
    "    while num_steps < kwargs[\"max_steps\"]:\n",
    "        num_steps += 1\n",
    "        states = dict()\n",
    "\n",
    "        for s in s_prime.get_moves():\n",
    "            if s_double_prime is not None and s_double_prime == s:\n",
    "                continue\n",
    "\n",
    "            "
   ]
  },
  {
   "cell_type": "code",
   "execution_count": 14,
   "id": "19ea0c56-6547-4801-bd03-964b9f0993ca",
   "metadata": {},
   "outputs": [],
   "source": [
    "max_steps = 2\n",
    "\n",
    "result = generate_task_prac(max_steps=max_steps)"
   ]
  }
 ],
 "metadata": {
  "kernelspec": {
   "display_name": "Python 3 (ipykernel)",
   "language": "python",
   "name": "python3"
  },
  "language_info": {
   "codemirror_mode": {
    "name": "ipython",
    "version": 3
   },
   "file_extension": ".py",
   "mimetype": "text/x-python",
   "name": "python",
   "nbconvert_exporter": "python",
   "pygments_lexer": "ipython3",
   "version": "3.10.13"
  }
 },
 "nbformat": 4,
 "nbformat_minor": 5
}
