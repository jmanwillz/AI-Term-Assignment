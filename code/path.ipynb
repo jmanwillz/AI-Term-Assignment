{
 "cells": [
  {
   "cell_type": "code",
   "execution_count": 2,
   "id": "a4693ce8-6d29-4e5d-b11d-609c8e2fc77a",
   "metadata": {},
   "outputs": [
    {
     "ename": "NameError",
     "evalue": "name 'SAMPLES' is not defined",
     "output_type": "error",
     "traceback": [
      "\u001b[0;31m---------------------------------------------------------------------------\u001b[0m",
      "\u001b[0;31mNameError\u001b[0m                                 Traceback (most recent call last)",
      "Cell \u001b[0;32mIn[2], line 1\u001b[0m\n\u001b[0;32m----> 1\u001b[0m \u001b[38;5;28;01mfrom\u001b[39;00m \u001b[38;5;21;01mwunn\u001b[39;00m \u001b[38;5;28;01mimport\u001b[39;00m BayesianNetwork\n",
      "File \u001b[0;32m~/Desktop/AI Term Assignment/code/wunn.py:101\u001b[0m\n\u001b[1;32m     96\u001b[0m             \u001b[38;5;28mself\u001b[39m\u001b[38;5;241m.\u001b[39mlog_prior, \u001b[38;5;28mself\u001b[39m\u001b[38;5;241m.\u001b[39mlog_variational_posterior \u001b[38;5;241m=\u001b[39m \u001b[38;5;241m0\u001b[39m, \u001b[38;5;241m0\u001b[39m\n\u001b[1;32m     98\u001b[0m         \u001b[38;5;28;01mreturn\u001b[39;00m F\u001b[38;5;241m.\u001b[39mlinear(\u001b[38;5;28minput\u001b[39m, weight, bias)\n\u001b[0;32m--> 101\u001b[0m \u001b[38;5;28;01mclass\u001b[39;00m \u001b[38;5;21;01mBayesianNetwork\u001b[39;00m(nn\u001b[38;5;241m.\u001b[39mModule):\n\u001b[1;32m    102\u001b[0m     \u001b[38;5;28;01mdef\u001b[39;00m \u001b[38;5;21m__init__\u001b[39m(\u001b[38;5;28mself\u001b[39m):\n\u001b[1;32m    103\u001b[0m         \u001b[38;5;28msuper\u001b[39m()\u001b[38;5;241m.\u001b[39m\u001b[38;5;21m__init__\u001b[39m()\n",
      "File \u001b[0;32m~/Desktop/AI Term Assignment/code/wunn.py:125\u001b[0m, in \u001b[0;36mBayesianNetwork\u001b[0;34m()\u001b[0m\n\u001b[1;32m    118\u001b[0m \u001b[38;5;28;01mdef\u001b[39;00m \u001b[38;5;21mlog_variational_posterior\u001b[39m(\u001b[38;5;28mself\u001b[39m):\n\u001b[1;32m    119\u001b[0m     \u001b[38;5;28;01mreturn\u001b[39;00m (\n\u001b[1;32m    120\u001b[0m         \u001b[38;5;28mself\u001b[39m\u001b[38;5;241m.\u001b[39ml1\u001b[38;5;241m.\u001b[39mlog_variational_posterior\n\u001b[1;32m    121\u001b[0m         \u001b[38;5;241m+\u001b[39m \u001b[38;5;28mself\u001b[39m\u001b[38;5;241m.\u001b[39ml2\u001b[38;5;241m.\u001b[39mlog_variational_posterior\n\u001b[1;32m    122\u001b[0m         \u001b[38;5;241m+\u001b[39m \u001b[38;5;28mself\u001b[39m\u001b[38;5;241m.\u001b[39ml3\u001b[38;5;241m.\u001b[39mlog_variational_posterior\n\u001b[1;32m    123\u001b[0m     )\n\u001b[0;32m--> 125\u001b[0m \u001b[38;5;28;01mdef\u001b[39;00m \u001b[38;5;21msample_elbo\u001b[39m(\u001b[38;5;28mself\u001b[39m, \u001b[38;5;28minput\u001b[39m, target, samples\u001b[38;5;241m=\u001b[39m\u001b[43mSAMPLES\u001b[49m):\n\u001b[1;32m    126\u001b[0m     outputs \u001b[38;5;241m=\u001b[39m torch\u001b[38;5;241m.\u001b[39mzeros(samples, BATCH_SIZE, CLASSES)\u001b[38;5;241m.\u001b[39mto(get_device())\n\u001b[1;32m    127\u001b[0m     log_priors \u001b[38;5;241m=\u001b[39m torch\u001b[38;5;241m.\u001b[39mzeros(samples)\u001b[38;5;241m.\u001b[39mto(get_device())\n",
      "\u001b[0;31mNameError\u001b[0m: name 'SAMPLES' is not defined"
     ]
    }
   ],
   "source": [
    "from wunn import BayesianNetwork"
   ]
  },
  {
   "cell_type": "code",
   "execution_count": 11,
   "id": "8733c886-5178-474e-bf19-daf553d289f9",
   "metadata": {},
   "outputs": [],
   "source": [
    "from fifteen_puzzle_solvers.puzzle import Puzzle\n",
    "from fifteen_puzzle_solvers.algorithms import AStar, BreadthFirst\n",
    "from fifteen_puzzle_solvers.solver import PuzzleSolver"
   ]
  },
  {
   "cell_type": "code",
   "execution_count": 12,
   "id": "ec491cc9-9b1e-4492-8871-23069d49a2e8",
   "metadata": {},
   "outputs": [],
   "source": [
    "class Globals:\n",
    "    goal_state = Puzzle([[1, 2, 3, 4], [5, 6, 7, 8], [9, 10, 11, 12], [13, 14, 15, 0]])\n",
    "    epsilon = 1\n",
    "    num_tasks_per_iter = 10\n",
    "    num_tasks_per_iter_threshold = 6\n",
    "    alpha_0 = 0.99\n",
    "    delta = 0.05\n",
    "    beta_0 = 0.05\n",
    "    k = 0.64\n",
    "    memory_buffer_max_records = 25000\n",
    "    mu_0 = 0\n",
    "    sigma_0_squared = 10\n",
    "    q = 0.95\n",
    "    K = 100"
   ]
  },
  {
   "cell_type": "code",
   "execution_count": 13,
   "id": "1814cd8e-f720-4d52-8155-d042161538d1",
   "metadata": {},
   "outputs": [],
   "source": [
    "def generate_task_prac(**kwargs):\n",
    "    s_prime = Globals.goal_state\n",
    "    num_steps = 0\n",
    "    s_double_prime = None\n",
    "\n",
    "    while num_steps < kwargs[\"max_steps\"]:\n",
    "        num_steps += 1\n",
    "        states = dict()\n",
    "\n",
    "        for s in s_prime.get_moves():\n",
    "            if s_double_prime is not None and s_double_prime == s:\n",
    "                continue\n",
    "\n",
    "            "
   ]
  },
  {
   "cell_type": "code",
   "execution_count": 14,
   "id": "19ea0c56-6547-4801-bd03-964b9f0993ca",
   "metadata": {},
   "outputs": [],
   "source": [
    "max_steps = 2\n",
    "\n",
    "result = generate_task_prac(max_steps=max_steps)"
   ]
  }
 ],
 "metadata": {
  "kernelspec": {
   "display_name": "Python 3 (ipykernel)",
   "language": "python",
   "name": "python3"
  },
  "language_info": {
   "codemirror_mode": {
    "name": "ipython",
    "version": 3
   },
   "file_extension": ".py",
   "mimetype": "text/x-python",
   "name": "python",
   "nbconvert_exporter": "python",
   "pygments_lexer": "ipython3",
   "version": "3.10.13"
  }
 },
 "nbformat": 4,
 "nbformat_minor": 5
}
